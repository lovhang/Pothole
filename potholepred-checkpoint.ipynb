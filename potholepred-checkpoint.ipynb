{
 "cells": [
  {
   "cell_type": "code",
   "execution_count": 2,
   "id": "4d94f77c",
   "metadata": {},
   "outputs": [],
   "source": [
    "import pandas as pd\n",
    "import numpy as np\n",
    "import scipy.stats as st\n",
    "import pmdarima as pm"
   ]
  },
  {
   "cell_type": "code",
   "execution_count": 3,
   "id": "c5d1b452",
   "metadata": {},
   "outputs": [],
   "source": [
    "Location = f'C:\\pothole\\Pothole_Map.csv'\n",
    "df = pd.read_csv(Location)\n",
    "df.dropna(subset=['Created Date', 'Latitude', 'Longitude'], inplace=True)"
   ]
  },
  {
   "cell_type": "code",
   "execution_count": 4,
   "id": "5648716a",
   "metadata": {},
   "outputs": [],
   "source": [
    "df['Created Date'] = pd.to_datetime(df['Created Date'])\n",
    "df['Closed Date'] = pd.to_datetime(df['Closed Date'])\n",
    "sortdf = df[df['Resolution Description'] ==  'The Department of Transportation inspected this complaint and repaired the problem.'].copy()"
   ]
  },
  {
   "cell_type": "code",
   "execution_count": 5,
   "id": "0636f7be",
   "metadata": {},
   "outputs": [],
   "source": [
    "#getting rid of outlier\n",
    "sortdf['Created Day'] = sortdf['Created Date'].dt.date\n",
    "sortdf['xOutlier'] = (abs(sortdf['Latitude'] - sortdf['Latitude'].mean()) > 1.96*sortdf['Latitude'].std())\n",
    "sortdf['yOutlier'] = (abs(sortdf['Longitude'] - sortdf['Longitude'].mean()) > 1.96*sortdf['Longitude'].std())\n",
    "sortdf = sortdf[sortdf['xOutlier']==False]\n",
    "sortdf = sortdf[sortdf['yOutlier']==False]"
   ]
  },
  {
   "cell_type": "code",
   "execution_count": 6,
   "id": "99984849",
   "metadata": {},
   "outputs": [],
   "source": [
    "sortdf['month'] = sortdf['Created Date'].dt.to_period('M')\n",
    "sortdf['month'] = sortdf['month'].dt.strftime('%Y-%m')\n",
    "sortdf['Date'] = pd.to_datetime(sortdf['Created Day']).dt.to_period('m')\n",
    "sortdf['value'] =1\n",
    "date = sortdf[['Date', 'value']].groupby(['Date'],as_index=False).sum()\n",
    "date['year'] = date['Date'].dt.year\n",
    "date['month'] = date['Date'].dt.month\n",
    "#print(date)"
   ]
  },
  {
   "cell_type": "code",
   "execution_count": 7,
   "id": "d846f979",
   "metadata": {},
   "outputs": [],
   "source": [
    "x = sortdf['Latitude'].to_numpy()\n",
    "y = sortdf['Longitude'].to_numpy()\n",
    "deltaX = (max(x) - min(x))/10\n",
    "deltaY = (max(y) - min(y))/10\n",
    "xmin = min(x) - deltaX\n",
    "xmax = max(x) + deltaX\n",
    "ymin = min(y) - deltaY\n",
    "ymax = max(y) + deltaY\n",
    "ydiff2 = ymax - ymin\n",
    "xdiff2 = xmax - xmin\n",
    "#print(xmin, xmax, ymin, ymax)\n",
    "sq = ydiff2*xdiff2/(10000)\n",
    "xx, yy = np.mgrid[xmin:xmax:100j, ymin:ymax:100j]\n",
    "positions = np.vstack([xx.ravel(), yy.ravel()])"
   ]
  },
  {
   "cell_type": "code",
   "execution_count": 8,
   "id": "0407706e",
   "metadata": {},
   "outputs": [],
   "source": [
    "def densev(input):\n",
    "    m1 = sortdf[sortdf['month'] == input]\n",
    "    sx = m1['Latitude'].to_numpy()\n",
    "    sy = m1['Longitude'].to_numpy()\n",
    "    values = np.vstack([sx, sy])\n",
    "    kernel = st.gaussian_kde(values)\n",
    "    sf = np.reshape(kernel(positions).T, xx.shape)\n",
    "    return sx, sy, sf"
   ]
  },
  {
   "cell_type": "code",
   "execution_count": 9,
   "id": "6a6c7f28",
   "metadata": {},
   "outputs": [],
   "source": [
    "denset = []\n",
    "for index, row in date.iterrows():\n",
    "    tempx, tempy, tempf = densev(str(row['Date']))\n",
    "    denset.append(tempf)\n",
    "#\n",
    "block = [[[0 for x in range(len(denset))] for x in range(100)] for y in range(100)]\n",
    "for i in range(0,len(denset[0])):\n",
    "    for j in range(0,len(denset[0])):\n",
    "        for k in range(0,len(denset)):\n",
    "            block[i][j][k] = denset[k][i][j]"
   ]
  },
  {
   "cell_type": "code",
   "execution_count": 29,
   "id": "d913548a",
   "metadata": {},
   "outputs": [],
   "source": [
    "def timeseries(cordx, cordy, n_period):\n",
    "    data1 = {'Month': date.Date, 'values': block[cordx][cordy]}\n",
    "    df2 = pd.DataFrame(data1)\n",
    "    #print(df2)      \n",
    "    df3 = df2.drop(range(60,66))\n",
    "    df3['Month'] = df3['Month'].dt.to_timestamp('s').dt.strftime('%Y-%m-%d %H:%M:%S.000')\n",
    "    df3['Month'] = pd.to_datetime(df3['Month'], format='%Y-%m-%d %H:%M:%S.%f')\n",
    "    df3 = df3.set_index('Month')\n",
    "    if df3['values'].mean() > 10:\n",
    "        data = df3[['values']]\n",
    "        smodel = pm.auto_arima(data, start_p=1, start_q=1,\n",
    "                           test='adf',\n",
    "                           max_p=3, max_q=3, m=12,\n",
    "                           start_P=0, seasonal=True,\n",
    "                           d=None, D=1, trace=True,\n",
    "                           error_action='ignore',\n",
    "                           suppress_warnings=True,\n",
    "                           stepwise=True)\n",
    "\n",
    "        smodel.summary()\n",
    "        n_periods = 24\n",
    "        fitted, confint = smodel.predict(n_periods=n_periods, return_conf_int=True)\n",
    "        #print(fitted)\n",
    "        index_of_fc = pd.date_range(data.index[-1], periods = n_periods, freq='MS')\n",
    "\n",
    "        fitted_series = pd.Series(fitted, index=index_of_fc)\n",
    "        lower_series = pd.Series(confint[:, 0], index=index_of_fc)\n",
    "        upper_series = pd.Series(confint[:, 1], index=index_of_fc)\n",
    "        fitted_series.to_pickle('./forecast/fittedseries_'+str(cordx)+'_'+str(cordy)+'_'+str(n_period)+'.pkl')\n",
    "        lower_series.to_pickle('./forecast/lowerseries_'+str(cordx)+'_'+str(cordy)+'_'+str(n_period)+'.pkl')\n",
    "        upper_series.to_pickle('./forecast/upperseries_'+str(cordx)+'_'+str(cordy)+'_'+str(n_period)+'.pkl')\n",
    "\n",
    "    "
   ]
  },
  {
   "cell_type": "code",
   "execution_count": 11,
   "id": "6b5f9c03",
   "metadata": {},
   "outputs": [],
   "source": [
    "forecastperiod = 12"
   ]
  },
  {
   "cell_type": "code",
   "execution_count": 12,
   "id": "c30c9db6",
   "metadata": {},
   "outputs": [],
   "source": [
    "#for i in range(0,100):\n",
    "#    for j in range(0, 100):\n",
    "#        print(str(i) +' -- '+str(j))\n",
    "#        timeseries(i,j,forecastperiod)\n"
   ]
  },
  {
   "cell_type": "code",
   "execution_count": 30,
   "id": "69f5d23f",
   "metadata": {},
   "outputs": [
    {
     "name": "stdout",
     "output_type": "stream",
     "text": [
      "Performing stepwise search to minimize aic\n",
      " ARIMA(1,2,1)(0,1,1)[12]             : AIC=inf, Time=0.13 sec\n",
      " ARIMA(0,2,0)(0,1,0)[12]             : AIC=541.651, Time=0.02 sec\n",
      " ARIMA(1,2,0)(1,1,0)[12]             : AIC=514.870, Time=0.11 sec\n",
      " ARIMA(0,2,1)(0,1,1)[12]             : AIC=inf, Time=0.17 sec\n",
      " ARIMA(1,2,0)(0,1,0)[12]             : AIC=512.907, Time=0.02 sec\n",
      " ARIMA(1,2,0)(0,1,1)[12]             : AIC=514.881, Time=0.17 sec\n",
      " ARIMA(1,2,0)(1,1,1)[12]             : AIC=inf, Time=0.33 sec\n",
      " ARIMA(2,2,0)(0,1,0)[12]             : AIC=497.885, Time=0.03 sec\n",
      " ARIMA(2,2,0)(1,1,0)[12]             : AIC=499.876, Time=0.12 sec\n",
      " ARIMA(2,2,0)(0,1,1)[12]             : AIC=499.877, Time=0.12 sec\n",
      " ARIMA(2,2,0)(1,1,1)[12]             : AIC=inf, Time=0.68 sec\n",
      " ARIMA(3,2,0)(0,1,0)[12]             : AIC=495.105, Time=0.05 sec\n",
      " ARIMA(3,2,0)(1,1,0)[12]             : AIC=497.047, Time=0.12 sec\n",
      " ARIMA(3,2,0)(0,1,1)[12]             : AIC=497.058, Time=0.16 sec\n",
      " ARIMA(3,2,0)(1,1,1)[12]             : AIC=499.045, Time=0.26 sec\n",
      " ARIMA(3,2,1)(0,1,0)[12]             : AIC=inf, Time=0.08 sec\n",
      " ARIMA(2,2,1)(0,1,0)[12]             : AIC=487.877, Time=0.16 sec\n",
      " ARIMA(2,2,1)(1,1,0)[12]             : AIC=inf, Time=0.18 sec\n",
      " ARIMA(2,2,1)(0,1,1)[12]             : AIC=489.837, Time=0.40 sec\n",
      " ARIMA(2,2,1)(1,1,1)[12]             : AIC=inf, Time=0.47 sec\n",
      " ARIMA(1,2,1)(0,1,0)[12]             : AIC=inf, Time=0.06 sec\n",
      " ARIMA(2,2,2)(0,1,0)[12]             : AIC=489.876, Time=0.11 sec\n",
      " ARIMA(1,2,2)(0,1,0)[12]             : AIC=inf, Time=0.18 sec\n",
      " ARIMA(3,2,2)(0,1,0)[12]             : AIC=inf, Time=0.27 sec\n",
      " ARIMA(2,2,1)(0,1,0)[12] intercept   : AIC=inf, Time=0.25 sec\n",
      "\n",
      "Best model:  ARIMA(2,2,1)(0,1,0)[12]          \n",
      "Total fit time: 4.655 seconds\n",
      "[ 96.4740482  146.79627101 112.21343901 126.98867945 138.36406266\n",
      " 137.20265487 141.31978775 147.15709516 150.15501776 154.99986295\n",
      " 389.29808117 237.45506966 265.08254433 319.96390687 289.82560766\n",
      " 309.19523453 325.10709072 328.46525693 337.13485409 347.50884292\n",
      " 355.04179928 364.42865686 603.26481754 455.95988282]\n"
     ]
    }
   ],
   "source": [
    "timeseries(44,83,forecastperiod)"
   ]
  },
  {
   "cell_type": "code",
   "execution_count": 32,
   "id": "1ef4e138",
   "metadata": {},
   "outputs": [
    {
     "data": {
      "text/plain": [
       "[1, 2, 3, 4, 5]"
      ]
     },
     "execution_count": 32,
     "metadata": {},
     "output_type": "execute_result"
    }
   ],
   "source": [
    "tt = [1,2,3,4,5]\n",
    "tt"
   ]
  },
  {
   "cell_type": "code",
   "execution_count": 16,
   "id": "39bc2703",
   "metadata": {},
   "outputs": [
    {
     "data": {
      "text/html": [
       "<div>\n",
       "<style scoped>\n",
       "    .dataframe tbody tr th:only-of-type {\n",
       "        vertical-align: middle;\n",
       "    }\n",
       "\n",
       "    .dataframe tbody tr th {\n",
       "        vertical-align: top;\n",
       "    }\n",
       "\n",
       "    .dataframe thead th {\n",
       "        text-align: right;\n",
       "    }\n",
       "</style>\n",
       "<table border=\"1\" class=\"dataframe\">\n",
       "  <thead>\n",
       "    <tr style=\"text-align: right;\">\n",
       "      <th></th>\n",
       "      <th>Month</th>\n",
       "      <th>values</th>\n",
       "    </tr>\n",
       "  </thead>\n",
       "  <tbody>\n",
       "    <tr>\n",
       "      <th>0</th>\n",
       "      <td>2016-01</td>\n",
       "      <td>3.723715e-18</td>\n",
       "    </tr>\n",
       "    <tr>\n",
       "      <th>1</th>\n",
       "      <td>2016-02</td>\n",
       "      <td>2.638328e-17</td>\n",
       "    </tr>\n",
       "    <tr>\n",
       "      <th>2</th>\n",
       "      <td>2016-03</td>\n",
       "      <td>1.249277e-27</td>\n",
       "    </tr>\n",
       "    <tr>\n",
       "      <th>3</th>\n",
       "      <td>2016-04</td>\n",
       "      <td>2.421516e-30</td>\n",
       "    </tr>\n",
       "    <tr>\n",
       "      <th>4</th>\n",
       "      <td>2016-05</td>\n",
       "      <td>1.206509e-15</td>\n",
       "    </tr>\n",
       "    <tr>\n",
       "      <th>...</th>\n",
       "      <td>...</td>\n",
       "      <td>...</td>\n",
       "    </tr>\n",
       "    <tr>\n",
       "      <th>61</th>\n",
       "      <td>2021-02</td>\n",
       "      <td>5.077575e-08</td>\n",
       "    </tr>\n",
       "    <tr>\n",
       "      <th>62</th>\n",
       "      <td>2021-03</td>\n",
       "      <td>6.874665e-15</td>\n",
       "    </tr>\n",
       "    <tr>\n",
       "      <th>63</th>\n",
       "      <td>2021-04</td>\n",
       "      <td>3.482807e-16</td>\n",
       "    </tr>\n",
       "    <tr>\n",
       "      <th>64</th>\n",
       "      <td>2021-05</td>\n",
       "      <td>1.105408e-29</td>\n",
       "    </tr>\n",
       "    <tr>\n",
       "      <th>65</th>\n",
       "      <td>2021-06</td>\n",
       "      <td>2.880706e-31</td>\n",
       "    </tr>\n",
       "  </tbody>\n",
       "</table>\n",
       "<p>66 rows × 2 columns</p>\n",
       "</div>"
      ],
      "text/plain": [
       "      Month        values\n",
       "0   2016-01  3.723715e-18\n",
       "1   2016-02  2.638328e-17\n",
       "2   2016-03  1.249277e-27\n",
       "3   2016-04  2.421516e-30\n",
       "4   2016-05  1.206509e-15\n",
       "..      ...           ...\n",
       "61  2021-02  5.077575e-08\n",
       "62  2021-03  6.874665e-15\n",
       "63  2021-04  3.482807e-16\n",
       "64  2021-05  1.105408e-29\n",
       "65  2021-06  2.880706e-31\n",
       "\n",
       "[66 rows x 2 columns]"
      ]
     },
     "execution_count": 16,
     "metadata": {},
     "output_type": "execute_result"
    }
   ],
   "source": [
    "data1 = {'Month': date.Date, 'values': block[0][83]}\n",
    "df2 = pd.DataFrame(data1)\n",
    "df2"
   ]
  },
  {
   "cell_type": "code",
   "execution_count": 17,
   "id": "fdf6bca3",
   "metadata": {},
   "outputs": [
    {
     "data": {
      "text/plain": [
       "8.127109370227034e-08"
      ]
     },
     "execution_count": 17,
     "metadata": {},
     "output_type": "execute_result"
    }
   ],
   "source": [
    "df2['values'].mean()"
   ]
  },
  {
   "cell_type": "code",
   "execution_count": 26,
   "id": "990a99b4",
   "metadata": {},
   "outputs": [],
   "source": [
    "df2.to_pickle('./forecast/fittedseries_example.pkl')"
   ]
  },
  {
   "cell_type": "code",
   "execution_count": 27,
   "id": "984c6a0b",
   "metadata": {},
   "outputs": [],
   "source": [
    "tempdata = pd.read_pickle(\"./forecast/fittedseries_example.pkl\")"
   ]
  },
  {
   "cell_type": "code",
   "execution_count": 28,
   "id": "f0f3c201",
   "metadata": {},
   "outputs": [
    {
     "data": {
      "text/html": [
       "<div>\n",
       "<style scoped>\n",
       "    .dataframe tbody tr th:only-of-type {\n",
       "        vertical-align: middle;\n",
       "    }\n",
       "\n",
       "    .dataframe tbody tr th {\n",
       "        vertical-align: top;\n",
       "    }\n",
       "\n",
       "    .dataframe thead th {\n",
       "        text-align: right;\n",
       "    }\n",
       "</style>\n",
       "<table border=\"1\" class=\"dataframe\">\n",
       "  <thead>\n",
       "    <tr style=\"text-align: right;\">\n",
       "      <th></th>\n",
       "      <th>Month</th>\n",
       "      <th>values</th>\n",
       "    </tr>\n",
       "  </thead>\n",
       "  <tbody>\n",
       "    <tr>\n",
       "      <th>0</th>\n",
       "      <td>2016-01</td>\n",
       "      <td>3.723715e-18</td>\n",
       "    </tr>\n",
       "    <tr>\n",
       "      <th>1</th>\n",
       "      <td>2016-02</td>\n",
       "      <td>2.638328e-17</td>\n",
       "    </tr>\n",
       "    <tr>\n",
       "      <th>2</th>\n",
       "      <td>2016-03</td>\n",
       "      <td>1.249277e-27</td>\n",
       "    </tr>\n",
       "    <tr>\n",
       "      <th>3</th>\n",
       "      <td>2016-04</td>\n",
       "      <td>2.421516e-30</td>\n",
       "    </tr>\n",
       "    <tr>\n",
       "      <th>4</th>\n",
       "      <td>2016-05</td>\n",
       "      <td>1.206509e-15</td>\n",
       "    </tr>\n",
       "    <tr>\n",
       "      <th>...</th>\n",
       "      <td>...</td>\n",
       "      <td>...</td>\n",
       "    </tr>\n",
       "    <tr>\n",
       "      <th>61</th>\n",
       "      <td>2021-02</td>\n",
       "      <td>5.077575e-08</td>\n",
       "    </tr>\n",
       "    <tr>\n",
       "      <th>62</th>\n",
       "      <td>2021-03</td>\n",
       "      <td>6.874665e-15</td>\n",
       "    </tr>\n",
       "    <tr>\n",
       "      <th>63</th>\n",
       "      <td>2021-04</td>\n",
       "      <td>3.482807e-16</td>\n",
       "    </tr>\n",
       "    <tr>\n",
       "      <th>64</th>\n",
       "      <td>2021-05</td>\n",
       "      <td>1.105408e-29</td>\n",
       "    </tr>\n",
       "    <tr>\n",
       "      <th>65</th>\n",
       "      <td>2021-06</td>\n",
       "      <td>2.880706e-31</td>\n",
       "    </tr>\n",
       "  </tbody>\n",
       "</table>\n",
       "<p>66 rows × 2 columns</p>\n",
       "</div>"
      ],
      "text/plain": [
       "      Month        values\n",
       "0   2016-01  3.723715e-18\n",
       "1   2016-02  2.638328e-17\n",
       "2   2016-03  1.249277e-27\n",
       "3   2016-04  2.421516e-30\n",
       "4   2016-05  1.206509e-15\n",
       "..      ...           ...\n",
       "61  2021-02  5.077575e-08\n",
       "62  2021-03  6.874665e-15\n",
       "63  2021-04  3.482807e-16\n",
       "64  2021-05  1.105408e-29\n",
       "65  2021-06  2.880706e-31\n",
       "\n",
       "[66 rows x 2 columns]"
      ]
     },
     "execution_count": 28,
     "metadata": {},
     "output_type": "execute_result"
    }
   ],
   "source": [
    "tempdata"
   ]
  },
  {
   "cell_type": "code",
   "execution_count": 23,
   "id": "2a3704c7",
   "metadata": {},
   "outputs": [
    {
     "name": "stdout",
     "output_type": "stream",
     "text": [
      "490.18640855045254\n",
      "305.6773414776327\n",
      "566.779623203207\n",
      "344.77174855677083\n",
      "364.90153030319397\n",
      "1447.6218586344523\n",
      "764.7770343232318\n",
      "182.92173794384905\n",
      "390.0654741127428\n",
      "433.9755935911893\n",
      "643.711299123748\n",
      "1186.3046295814415\n",
      "621.3889606891679\n",
      "321.9651028703164\n",
      "480.47948887627217\n",
      "368.45729708151475\n",
      "320.5449211119378\n",
      "1651.8806611332213\n",
      "774.6085794826718\n",
      "225.63182295777676\n",
      "470.68978207700604\n",
      "352.19508075728\n",
      "775.5704272592084\n",
      "1247.388380009882\n"
     ]
    }
   ],
   "source": [
    "for i in range(0, len(tempdata)):\n",
    "    print(tempdata[i])"
   ]
  },
  {
   "cell_type": "code",
   "execution_count": null,
   "id": "a3e5f9b0",
   "metadata": {},
   "outputs": [],
   "source": []
  }
 ],
 "metadata": {
  "kernelspec": {
   "display_name": "Python 3 (ipykernel)",
   "language": "python",
   "name": "python3"
  },
  "language_info": {
   "codemirror_mode": {
    "name": "ipython",
    "version": 3
   },
   "file_extension": ".py",
   "mimetype": "text/x-python",
   "name": "python",
   "nbconvert_exporter": "python",
   "pygments_lexer": "ipython3",
   "version": "3.8.10"
  }
 },
 "nbformat": 4,
 "nbformat_minor": 5
}
