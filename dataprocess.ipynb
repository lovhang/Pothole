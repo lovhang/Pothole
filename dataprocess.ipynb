{
 "cells": [
  {
   "cell_type": "code",
   "execution_count": 2,
   "id": "d1afe368",
   "metadata": {},
   "outputs": [],
   "source": [
    "import numpy as np\n",
    "import math\n",
    "import sys\n",
    "import time\n",
    "\n",
    "import numpy.random\n",
    "from docplex.mp.model import Model\n",
    "import itertools\n",
    "import numpy as np\n",
    "import pandas as pd"
   ]
  },
  {
   "cell_type": "code",
   "execution_count": 9,
   "id": "9a261418",
   "metadata": {},
   "outputs": [
    {
     "data": {
      "text/plain": [
       "[    Unnamed: 0  saafeasi\n",
       " 0            0     False\n",
       " 1            1     False\n",
       " 2            2     False\n",
       " 3            3     False\n",
       " 4            4     False\n",
       " ..         ...       ...\n",
       " 95          95     False\n",
       " 96          96     False\n",
       " 97          97     False\n",
       " 98          98     False\n",
       " 99          99     False\n",
       " \n",
       " [100 rows x 2 columns],\n",
       "     Unnamed: 0  saafeasi\n",
       " 0            0      True\n",
       " 1            1     False\n",
       " 2            2     False\n",
       " 3            3      True\n",
       " 4            4     False\n",
       " ..         ...       ...\n",
       " 95          95      True\n",
       " 96          96      True\n",
       " 97          97     False\n",
       " 98          98     False\n",
       " 99          99      True\n",
       " \n",
       " [100 rows x 2 columns],\n",
       "     Unnamed: 0  saafeasi\n",
       " 0            0      True\n",
       " 1            1      True\n",
       " 2            2     False\n",
       " 3            3     False\n",
       " 4            4      True\n",
       " ..         ...       ...\n",
       " 95          95     False\n",
       " 96          96      True\n",
       " 97          97      True\n",
       " 98          98      True\n",
       " 99          99      True\n",
       " \n",
       " [100 rows x 2 columns],\n",
       "     Unnamed: 0  saafeasi\n",
       " 0            0      True\n",
       " 1            1      True\n",
       " 2            2      True\n",
       " 3            3      True\n",
       " 4            4      True\n",
       " ..         ...       ...\n",
       " 95          95      True\n",
       " 96          96      True\n",
       " 97          97      True\n",
       " 98          98      True\n",
       " 99          99      True\n",
       " \n",
       " [100 rows x 2 columns],\n",
       "     Unnamed: 0  saafeasi\n",
       " 0            0      True\n",
       " 1            1      True\n",
       " 2            2      True\n",
       " 3            3      True\n",
       " 4            4      True\n",
       " ..         ...       ...\n",
       " 95          95      True\n",
       " 96          96      True\n",
       " 97          97      True\n",
       " 98          98      True\n",
       " 99          99      True\n",
       " \n",
       " [100 rows x 2 columns]]"
      ]
     },
     "execution_count": 9,
     "metadata": {},
     "output_type": "execute_result"
    }
   ],
   "source": [
    "data = [0 for i in range(0,5)]\n",
    "data[0] = pd.read_csv(f'D:\\\\PMS\\\\FESASIBLECHECK_500_1.0B_10y_100snr_100case.csv')\n",
    "data[1] = pd.read_csv(f'D:\\\\PMS\\\\FESASIBLECHECK_500_1.0B_10y_300snr_100case.csv')\n",
    "data[2] = pd.read_csv(f'D:\\\\PMS\\\\FESASIBLECHECK_500_1.0B_10y_500snr_100case.csv')\n",
    "data[3] = pd.read_csv(f'D:\\\\PMS\\\\FESASIBLECHECK_500_1.0B_10y_700snr_100case.csv')\n",
    "data[4] = pd.read_csv(f'D:\\\\PMS\\\\FESASIBLECHECK_500_1.0B_10y_900snr_100case.csv')\n",
    "data"
   ]
  },
  {
   "cell_type": "code",
   "execution_count": 11,
   "id": "4cca3614",
   "metadata": {},
   "outputs": [
    {
     "data": {
      "text/plain": [
       "[1, 45, 68, 80, 88]"
      ]
     },
     "execution_count": 11,
     "metadata": {},
     "output_type": "execute_result"
    }
   ],
   "source": [
    "fs = [0 for i in range(0,5)]\n",
    "for i in range(0,5):\n",
    "    n=0\n",
    "    for j,row in data[i].iterrows():\n",
    "        if row['saafeasi'] is True:\n",
    "            n=n+1\n",
    "    fs[i] = n        \n",
    "x = [100,300,500,700,900]"
   ]
  },
  {
   "cell_type": "code",
   "execution_count": null,
   "id": "baeb547f",
   "metadata": {},
   "outputs": [],
   "source": []
  }
 ],
 "metadata": {
  "kernelspec": {
   "display_name": "Python 3 (ipykernel)",
   "language": "python",
   "name": "python3"
  },
  "language_info": {
   "codemirror_mode": {
    "name": "ipython",
    "version": 3
   },
   "file_extension": ".py",
   "mimetype": "text/x-python",
   "name": "python",
   "nbconvert_exporter": "python",
   "pygments_lexer": "ipython3",
   "version": "3.7.0"
  }
 },
 "nbformat": 4,
 "nbformat_minor": 5
}
