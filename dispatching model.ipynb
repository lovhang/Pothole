{
 "cells": [
  {
   "cell_type": "code",
   "execution_count": 1,
   "id": "21fcbcc8",
   "metadata": {},
   "outputs": [],
   "source": [
    "import numpy as np\n",
    "import math\n",
    "import sys\n",
    "import time\n",
    "\n",
    "import numpy.random\n",
    "from docplex.mp.model import Model\n",
    "import itertools\n",
    "import numpy as np\n",
    "import pandas as pd\n",
    "from itertools import chain, combinations"
   ]
  },
  {
   "cell_type": "code",
   "execution_count": 11,
   "id": "df39b62b",
   "metadata": {},
   "outputs": [],
   "source": [
    "#parameter\n",
    "V = 9\n",
    "M = 3\n",
    "#SET\n",
    "n = [i for i in range(0,V)] # set of node\n",
    "n = set(n)\n",
    "m = [k for k in range(0,M)] # set of crew\n",
    "m = set(m)\n",
    "t = [[100.0 for i in range(0, V)] for j in range(0,V)]#travel time\n",
    "o = [[3*60 for i in range(0, V)] for j in range(0,V)] #patching/repairing time\n",
    "Tm = 8*60\n",
    "E=[]\n",
    "t[0][1]=10;t[0][3]=10;t[1][0]=10;t[1][2]=10;t[1][4]=10;t[2][1]=10;t[2][5]=10\n",
    "t[3][0]=10;t[3][4]=10;t[3][6]=10;t[4][1]=10;t[4][5]=10;t[4][7]=10\n",
    "t[4][3]=10;t[5][2]=10;t[5][4]=10;t[5][8]=10;t[6][3]=10;t[6][7]=10;t[7][6]=10\n",
    "t[7][4]=10;t[7][8]=10;t[8][7]=10;t[8][5]=10\n",
    "for i in n:\n",
    "    for j in n:\n",
    "        if t[i][j] <100:\n",
    "            E.append((i,j)) \n",
    "E = set(E)            \n",
    "Er = [(0,1),(4,5),(6,7)]"
   ]
  },
  {
   "cell_type": "code",
   "execution_count": 12,
   "id": "346c08d5",
   "metadata": {},
   "outputs": [],
   "source": [
    "def powerset(iterable):\n",
    "    \"powerset([1,2,3]) --> () (1,) (2,) (3,) (1,2) (1,3) (2,3) (1,2,3)\"\n",
    "    s = list(iterable)\n",
    "    return chain.from_iterable(combinations(s, r) for r in range(len(s)+1))"
   ]
  },
  {
   "cell_type": "code",
   "execution_count": 10,
   "id": "6f4d1c59",
   "metadata": {},
   "outputs": [
    {
     "data": {
      "text/plain": [
       "{(0, 1),\n",
       " (0, 3),\n",
       " (1, 0),\n",
       " (1, 2),\n",
       " (1, 4),\n",
       " (2, 1),\n",
       " (2, 5),\n",
       " (3, 0),\n",
       " (3, 4),\n",
       " (3, 6),\n",
       " (4, 1),\n",
       " (4, 3),\n",
       " (4, 5),\n",
       " (4, 7),\n",
       " (5, 2),\n",
       " (5, 4),\n",
       " (5, 8),\n",
       " (6, 3),\n",
       " (6, 7),\n",
       " (7, 4),\n",
       " (7, 6),\n",
       " (7, 8),\n",
       " (8, 5),\n",
       " (8, 7)}"
      ]
     },
     "execution_count": 10,
     "metadata": {},
     "output_type": "execute_result"
    }
   ],
   "source": [
    "E"
   ]
  },
  {
   "cell_type": "code",
   "execution_count": 25,
   "id": "8e1add45",
   "metadata": {},
   "outputs": [],
   "source": [
    "mdl = Model('dispatch_pothole')\n",
    "x = mdl.integer_var_dict([(i,j,k) for i in n for j in n for k in m], name='x')"
   ]
  },
  {
   "cell_type": "code",
   "execution_count": 22,
   "id": "a8863659",
   "metadata": {},
   "outputs": [
    {
     "data": {
      "text/plain": [
       "[docplex.mp.LinearConstraint[](x_0_0_0+x_1_0_0+x_2_0_0+x_3_0_0+x_4_0_0+x_5_0_0+x_6_0_0+x_7_0_0+x_8_0_0,EQ,1),\n",
       " docplex.mp.LinearConstraint[](x_0_0_1+x_1_0_1+x_2_0_1+x_3_0_1+x_4_0_1+x_5_0_1+x_6_0_1+x_7_0_1+x_8_0_1,EQ,1),\n",
       " docplex.mp.LinearConstraint[](x_0_0_2+x_1_0_2+x_2_0_2+x_3_0_2+x_4_0_2+x_5_0_2+x_6_0_2+x_7_0_2+x_8_0_2,EQ,1)]"
      ]
     },
     "execution_count": 22,
     "metadata": {},
     "output_type": "execute_result"
    }
   ],
   "source": [
    "mdl.minimize(mdl.sum(x[i,j,k]*t[i][j] for i in n for j in n for k in m))\n",
    "mdl.add_constraints(mdl.sum(x[i,j,k] for j in n)-mdl.sum(x[j,i,k] for j in n) == 0 for i in n for k in m)\n",
    "#mdl.add_constraint(mdl.sum(x[0,4,k]+x[4,0,k] for k in m) >=1)\n",
    "for e in E:\n",
    "    mdl.add_constraint(mdl.sum(x[e[0],e[1],k]+x[e[1],e[0],k] for k in m) >= 1)\n",
    "mdl.add_constraints(mdl.sum(x[i,j,k]*t[i][j] for i in n for j in n) <= Tm for k in m)  \n",
    "mdl.add_constraints(mdl.sum(x[0,j,k] for j in n) == 1 for k in m)\n",
    "mdl.add_constraints(mdl.sum(x[j,0,k] for j in n) == 1 for k in m)"
   ]
  },
  {
   "cell_type": "code",
   "execution_count": null,
   "id": "615b7379",
   "metadata": {},
   "outputs": [],
   "source": []
  }
 ],
 "metadata": {
  "kernelspec": {
   "display_name": "Python 3 (ipykernel)",
   "language": "python",
   "name": "python3"
  },
  "language_info": {
   "codemirror_mode": {
    "name": "ipython",
    "version": 3
   },
   "file_extension": ".py",
   "mimetype": "text/x-python",
   "name": "python",
   "nbconvert_exporter": "python",
   "pygments_lexer": "ipython3",
   "version": "3.7.0"
  }
 },
 "nbformat": 4,
 "nbformat_minor": 5
}
